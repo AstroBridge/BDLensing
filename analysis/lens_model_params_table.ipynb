{
 "cells": [
  {
   "cell_type": "markdown",
   "metadata": {},
   "source": [
    "# $\\LaTeX$ table generation from the lens model `YAML` files"
   ]
  },
  {
   "cell_type": "markdown",
   "metadata": {},
   "source": [
    "**Author(s):** Muhammad Jobair Hasan, Sulyman Hossain, Anowar J. Shajib"
   ]
  },
  {
   "cell_type": "markdown",
   "metadata": {},
   "source": [
    "## Import the necessary libraries"
   ]
  },
  {
   "cell_type": "code",
   "execution_count": 10,
   "metadata": {},
   "outputs": [],
   "source": [
    "import numpy as np\n",
    "import yaml"
   ]
  },
  {
   "cell_type": "markdown",
   "metadata": {},
   "source": [
    "## List of the model names"
   ]
  },
  {
   "cell_type": "code",
   "execution_count": 11,
   "metadata": {},
   "outputs": [],
   "source": [
    "lens_names = [\n",
    "    \"DESIJ0132-1600\",\n",
    "    \"DESIJ0136-0008\",\n",
    "    \"DESIJ0201-2739\",\n",
    "    \"DESIJ0215-2909\",\n",
    "    \"DESIJ0618+5018\",\n",
    "    \"DESIJ0923+1829\",\n",
    "    \"DESIJ1018-0121\",\n",
    "    \"DESIJ1101-0602\",\n",
    "    \"DESIJ1205+4110\",\n",
    "    \"DESIJ1501+5208\",\n",
    "    \"DESIJ1537+1443\",\n",
    "    \"DESIJ1554+0443\",\n",
    "    \"DESIJ1624+0129\",\n",
    "    \"DESIJ1709+3154\",\n",
    "    \"DESIJ2158+0257\",\n",
    "]\n",
    "\n",
    "file_path = \"../paper/lens_model_params.tex\"\n",
    "file_path1 = \"../paper/photometric_params.tex\""
   ]
  },
  {
   "cell_type": "markdown",
   "metadata": {},
   "source": [
    "## Write the `lens_model_params.tex` file"
   ]
  },
  {
   "cell_type": "code",
   "execution_count": 12,
   "metadata": {},
   "outputs": [],
   "source": [
    "num_lens = len(lens_names)\n",
    "\n",
    "\n",
    "for i in range(num_lens):\n",
    "    lens_name = lens_names[i]\n",
    "    #print(lens_name)\n",
    "\n",
    "    output_path = f\"../lens_systems/{lens_name}/{lens_name}_point_estimates.yml\"\n",
    "\n",
    "    try:\n",
    "        with open(output_path, \"r\") as f:\n",
    "            data = yaml.full_load(f)\n",
    "\n",
    "    except AttributeError:\n",
    "        print(f\"Failed to load {lens_name}\")\n",
    "        continue\n",
    "\n",
    "    # Len model parameters\n",
    "    theta_E = data.get(\"theta_E\")\n",
    "    gamma = data.get(\"gamma\")\n",
    "    q_mass = data.get(\"q_mass\")\n",
    "    phi_mass = data.get(\"phi_mass\")\n",
    "    phi_mass = [x * (180 / np.pi) for x in phi_mass]  # conversion to degrees\n",
    "    gamma_shear = data.get(\"gamma_shear\")\n",
    "    phi_shear = data.get(\"phi_shear\")\n",
    "    phi_shear = [x * (180 / np.pi) for x in phi_shear]  # conversion to degrees\n",
    "    R_eff_light = data.get(\"R_eff_light\")\n",
    "    q_light = data.get(\"q_light\")\n",
    "    phi_light = data.get(\"phi_light\")\n",
    "    phi_light = [x * (180 / np.pi) for x in phi_light]  # conversion to degrees\n",
    "    \n",
    "    # Redshift data\n",
    "    z_phot = data.get(\"z_phot\")\n",
    "    \n",
    "    # Photometric parameters\n",
    "    Sigma_10 = data.get(\"Sigma_10a\")\n",
    "    Sigma_10_flux_selected = data.get(\"Sigma_10a_flux_selected\")\n",
    "    Sigma_20 = data.get(\"Sigma_20a\")\n",
    "    Sigma_20_flux_selected = data.get(\"Sigma_20a_flux_selected\")\n",
    "    \n",
    "    # Offsets\n",
    "    centroid_offset = data.get(\"centroid_offset\")\n",
    "    position_angle_offset = data.get(\"position_angle_offset\")\n",
    "\n",
    "    # Translate the lens_name and remove prefix\n",
    "    mapping_table = str.maketrans({\"-\": \"$-$\", \"+\": \"$+$\"})\n",
    "    lens_name = lens_name.translate(mapping_table)\n",
    "    lens_name = lens_name.removeprefix(\"DESI\")\n",
    "\n",
    "    # For the models that have their 'R_eff_light' uncertainties calculated\n",
    "    if isinstance(R_eff_light, list):\n",
    "        R_eff_light = R_eff_light[0]\n",
    "\n",
    "    # Add 2 percent (systematic) uncertainty on 'R_eff_light' based on Shajib et al. 2021\n",
    "    # https://doi.org/10.1093/mnras/stab536\n",
    "    # [mean, upper uncertainty, lower uncertainty]\n",
    "    R_eff_light = [R_eff_light, R_eff_light * 0.02, R_eff_light * 0.02]\n",
    "\n",
    "    # Write the table of photometric parameters\n",
    "    with open(file_path1, \"a\") as f:\n",
    "        f.write(\n",
    "            f\"{lens_name} & \\\n",
    "            ${z_phot[0]:.3f} \\pm {z_phot[1]:.3f}$ & \\\n",
    "            ${Sigma_10:.3f}$ & \\\n",
    "            ${Sigma_10_flux_selected:.3f}$ & \\\n",
    "            ${Sigma_20:.3f}$ & \\\n",
    "            ${Sigma_20_flux_selected:.3f}$ &\\\n",
    "            ${centroid_offset[0]:.3f} \\pm {centroid_offset[1]:.3f}$ & \\\n",
    "            ${position_angle_offset[0]:.3f} \\pm {position_angle_offset[1]:.3f}$ & \\\\\\ \\n\"\n",
    "            )\n",
    "    \n",
    "    if isinstance(gamma, float):\n",
    "        with open(file_path, \"a\") as f:\n",
    "            f.write(\n",
    "                f\"{lens_name} & \\\n",
    "            ${theta_E[0]:.3f}_{{-{theta_E[2]:.3f}}}^{{+{theta_E[1]:.3f}}}$ & \\\n",
    "            ${gamma:.2f}$ & \\\n",
    "            ${q_mass[0]:.3f}_{{-{q_mass[2]:.3f}}}^{{+{q_mass[1]:.3f}}}$ & \\\n",
    "            ${phi_mass[0]:.1f}_{{-{phi_mass[2]:.1f}}}^{{+{phi_mass[1]:.1f}}}$ & \\\n",
    "            ${gamma_shear[0]:.3f}_{{-{gamma_shear[2]:.3f}}}^{{+{gamma_shear[1]:.3f}}}$ & \\\n",
    "            ${phi_shear[0]:.1f}_{{-{phi_shear[2]:.1f}}}^{{+{phi_shear[1]:.1f}}}$ & \\\n",
    "            ${R_eff_light[0]:.2f} \\pm {R_eff_light[1]:.2f}$ & \\\n",
    "            ${q_light[0]:.3f}_{{-{q_light[2]:.3f}}}^{{+{q_light[1]:.3f}}}$ & \\\n",
    "            ${phi_light[0]:.1f}_{{-{phi_light[2]:.1f}}}^{{+{phi_light[1]:.1f}}}$ \\\\\\ \\n\"\n",
    "            )\n",
    "        \n",
    "        continue\n",
    "    \n",
    "    # number of significant figures based on Shajib et al. 2021 (Table 1)\n",
    "    with open(file_path, \"a\") as f:\n",
    "        f.write(\n",
    "            f\"{lens_name} & \\\n",
    "        ${theta_E[0]:.3f}_{{-{theta_E[2]:.3f}}}^{{+{theta_E[1]:.3f}}}$ & \\\n",
    "        ${gamma[0]:.2f}_{{-{gamma[2]:.2f}}}^{{+{gamma[1]:.2f}}}$ & \\\n",
    "        ${q_mass[0]:.3f}_{{-{q_mass[2]:.3f}}}^{{+{q_mass[1]:.3f}}}$ & \\\n",
    "        ${phi_mass[0]:.1f}_{{-{phi_mass[2]:.1f}}}^{{+{phi_mass[1]:.1f}}}$ & \\\n",
    "        ${gamma_shear[0]:.3f}_{{-{gamma_shear[2]:.3f}}}^{{+{gamma_shear[1]:.3f}}}$ & \\\n",
    "        ${phi_shear[0]:.1f}_{{-{phi_shear[2]:.1f}}}^{{+{phi_shear[1]:.1f}}}$ & \\\n",
    "        ${R_eff_light[0]:.2f} \\pm {R_eff_light[1]:.2f}$ & \\\n",
    "        ${q_light[0]:.3f}_{{-{q_light[2]:.3f}}}^{{+{q_light[1]:.3f}}}$ & \\\n",
    "        ${phi_light[0]:.1f}_{{-{phi_light[2]:.1f}}}^{{+{phi_light[1]:.1f}}}$ \\\\\\ \\n\"\n",
    "        )\n",
    "\n",
    "\n",
    "with open(file_path1, \"a\") as f:\n",
    "    f.write(\"\\hline\\n\")\n",
    "\n",
    "with open(file_path, \"a\") as f:\n",
    "    f.write(\"\\hline\\n\")"
   ]
  }
 ],
 "metadata": {
  "kernelspec": {
   "display_name": "Python 3 (ipykernel)",
   "language": "python",
   "name": "python3"
  },
  "language_info": {
   "codemirror_mode": {
    "name": "ipython",
    "version": 3
   },
   "file_extension": ".py",
   "mimetype": "text/x-python",
   "name": "python",
   "nbconvert_exporter": "python",
   "pygments_lexer": "ipython3",
   "version": "3.10.12"
  }
 },
 "nbformat": 4,
 "nbformat_minor": 2
}
