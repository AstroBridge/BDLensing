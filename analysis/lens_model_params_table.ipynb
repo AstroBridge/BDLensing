{
 "cells": [
  {
   "cell_type": "markdown",
   "metadata": {},
   "source": [
    "# $\\LaTeX$ table generation from the lens model `YAML` files"
   ]
  },
  {
   "cell_type": "markdown",
   "metadata": {},
   "source": [
    "**Author(s):** Muhammad Jobair Hasan, Anowar J. Shajib"
   ]
  },
  {
   "cell_type": "markdown",
   "metadata": {},
   "source": [
    "## Import the necessary libraries"
   ]
  },
  {
   "cell_type": "code",
   "execution_count": 13,
   "metadata": {},
   "outputs": [],
   "source": [
    "import yaml"
   ]
  },
  {
   "cell_type": "markdown",
   "metadata": {},
   "source": [
    "## List of the model names"
   ]
  },
  {
   "cell_type": "code",
   "execution_count": 14,
   "metadata": {},
   "outputs": [],
   "source": [
    "lens_names = [\n",
    "    \"DESIJ1018-0121\",\n",
    "    \"DESIJ1205+4110\",\n",
    "    \"DESIJ1709+3154\",\n",
    "]\n",
    "\n",
    "file_path = \"../paper/lens_models_params.tex\""
   ]
  },
  {
   "cell_type": "markdown",
   "metadata": {},
   "source": [
    "## Writing the `lens_model_params.tex` file"
   ]
  },
  {
   "cell_type": "code",
   "execution_count": 15,
   "metadata": {},
   "outputs": [],
   "source": [
    "num_lens = len(lens_names)\n",
    "\n",
    "\n",
    "for i in range(num_lens):\n",
    "    lens_name = lens_names[i]\n",
    "\n",
    "    output_path = f\"../lens_systems/{lens_name}/{lens_name}_point_estimates.yml\"\n",
    "\n",
    "    try:\n",
    "        with open(output_path, \"r\") as f:\n",
    "            data = yaml.full_load(f)\n",
    "\n",
    "    except AttributeError:\n",
    "        print(f\"Failed to load {lens_name}\")\n",
    "        continue\n",
    "    \n",
    "\n",
    "    theta_E = data.get('theta_E')\n",
    "    gamma = data.get('gamma')\n",
    "    q_mass = data.get('q_mass')\n",
    "    phi_mass = data.get('phi_mass')\n",
    "    gamma_shear = data.get('gamma_shear')\n",
    "    phi_shear = data.get('phi_shear')\n",
    "    R_eff_light = data.get('R_eff_light')\n",
    "    q_light = data.get('q_light')\n",
    "    phi_light = data.get('phi_light')\n",
    "    \n",
    "\n",
    "    # For the models that have their 'R_eff_light' uncertainties calculated\n",
    "    if isinstance(R_eff_light, list):\n",
    "         R_eff_light = R_eff_light[0]\n",
    "         \n",
    "\n",
    "    with open(file_path, 'a') as f:\n",
    "        f.write(f\"{lens_name} & \\\n",
    "        ${theta_E[0]:.4f}_{{{theta_E[2]:.4f}}}^{{{theta_E[1]:.4f}}}$ & \\\n",
    "        ${gamma[0]:.4f}_{{{gamma[2]:.4f}}}^{{{gamma[1]:.4f}}}$ & \\\n",
    "        ${q_mass[0]:.4f}_{{{q_mass[2]:.4f}}}^{{{q_mass[1]:.4f}}}$ & \\\n",
    "        ${phi_mass[0]:.4f}_{{{phi_mass[2]:.4f}}}^{{{phi_mass[1]:.4f}}}$ & \\\n",
    "        ${gamma_shear[0]:.4f}_{{{gamma_shear[2]:.4f}}}^{{{gamma_shear[1]:.4f}}}$ & \\\n",
    "        ${phi_shear[0]:.4f}_{{{phi_shear[2]:.4f}}}^{{{phi_shear[1]:.4f}}}$ & \\\n",
    "        ${R_eff_light:.4f}$ & \\\n",
    "        ${q_light[0]:.4f}_{{{q_light[2]:.4f}}}^{{{q_light[1]:.4f}}}$ & \\\n",
    "        ${phi_light[0]:.4f}_{{{phi_light[2]:.4f}}}^{{{phi_light[1]:.4f}}}$ \\\\\\ \\n\")\n",
    "\n",
    "\n",
    "with open(file_path, 'a') as f:\n",
    "        f.write(\"\\hline \\n\")"
   ]
  }
 ],
 "metadata": {
  "kernelspec": {
   "display_name": "Python 3",
   "language": "python",
   "name": "python3"
  },
  "language_info": {
   "codemirror_mode": {
    "name": "ipython",
    "version": 3
   },
   "file_extension": ".py",
   "mimetype": "text/x-python",
   "name": "python",
   "nbconvert_exporter": "python",
   "pygments_lexer": "ipython3",
   "version": "3.11.5"
  }
 },
 "nbformat": 4,
 "nbformat_minor": 2
}
